{
 "cells": [
  {
   "cell_type": "code",
   "execution_count": 2,
   "metadata": {},
   "outputs": [],
   "source": [
    "from typing import NoReturn\n",
    "import logging\n",
    "\n",
    "import numpy as np\n",
    "from numpy.typing import ArrayLike\n",
    "\n",
    "import scipy as sp"
   ]
  },
  {
   "cell_type": "code",
   "execution_count": 3,
   "metadata": {},
   "outputs": [],
   "source": [
    "def convm(x: ArrayLike, p: int) -> np.ndarray:\n",
    "    \"\"\"Construct the convolution matrix of the signal x with p number of parameters.\n",
    "\n",
    "    (N + p - 1) by p non-symmetric Toeplitz matrix\n",
    "    \"\"\"\n",
    "    _x = np.array(x, dtype=complex).ravel()\n",
    "    if p < 1:\n",
    "        raise ValueError(f\"{p=} must be greater or equal to 1.\")\n",
    "\n",
    "    N = len(_x) + 2 * p - 2\n",
    "    # the signal centered over its support\n",
    "    # needed for the signal information-preserving frequency spectrum\n",
    "    xcol = (_x.copy()).reshape(-1, 1)\n",
    "    logging.warning(f'\\n{xcol=}')\n",
    "    xpad = np.concatenate((np.zeros((p - 1, 1)), xcol, np.zeros((p - 1, 1))))\n",
    "    logging.warning(f'{xpad=}\\n')\n",
    "    X = np.empty([len(_x) + p - 1, p], dtype=complex)\n",
    "    for i in range(p):\n",
    "        X[:, i] = xpad[p - i - 1:N - i, 0]\n",
    "    return X"
   ]
  },
  {
   "cell_type": "code",
   "execution_count": 4,
   "metadata": {},
   "outputs": [],
   "source": [
    "def covar(x: ArrayLike, p: int) -> np.ndarray:\n",
    "    \"\"\"Covariance Matrix.\n",
    "\n",
    "    p x p hermitian toeplitz matrix of sample covariances\n",
    "    \"\"\"\n",
    "    _x = np.array(x, dtype=complex)\n",
    "    m = len(_x)\n",
    "    # remove the mean\n",
    "    #_x = _x - np.mean(_x)\n",
    "    conv = convm(x, p + 1)\n",
    "    logging.warning(f'\\n{conv.shape=}')\n",
    "    logging.warning(f'\\n{conv=}')\n",
    "    R = conv.conjugate().transpose() @ conv.copy() / (m - 1)\n",
    "    return R"
   ]
  },
  {
   "cell_type": "code",
   "execution_count": 5,
   "metadata": {},
   "outputs": [
    {
     "name": "stderr",
     "output_type": "stream",
     "text": [
      "WARNING:root:\n",
      "xcol=array([[ 6.     +0.j     ],\n",
      "       [ 1.92705+4.58522j],\n",
      "       [-3.42705+3.49541j]])\n",
      "WARNING:root:xpad=array([[ 0.     +0.j     ],\n",
      "       [ 0.     +0.j     ],\n",
      "       [ 6.     +0.j     ],\n",
      "       [ 1.92705+4.58522j],\n",
      "       [-3.42705+3.49541j],\n",
      "       [ 0.     +0.j     ],\n",
      "       [ 0.     +0.j     ]])\n",
      "\n",
      "WARNING:root:\n",
      "conv.shape=(5, 3)\n",
      "WARNING:root:\n",
      "conv=array([[ 6.     +0.j     ,  0.     +0.j     ,  0.     +0.j     ],\n",
      "       [ 1.92705+4.58522j,  6.     +0.j     ,  0.     +0.j     ],\n",
      "       [-3.42705+3.49541j,  1.92705+4.58522j,  6.     +0.j     ],\n",
      "       [ 0.     +0.j     , -3.42705+3.49541j,  1.92705+4.58522j],\n",
      "       [ 0.     +0.j     ,  0.     +0.j     , -3.42705+3.49541j]])\n"
     ]
    },
    {
     "name": "stdout",
     "output_type": "stream",
     "text": [
      "'R.shape=(3, 3)'\n",
      "('R=array([[6.50770032+0.j        , 4.33516862-2.88114099j,\\n'\n",
      " '        1.48396786-3.53317288j],\\n'\n",
      " '       [4.33516862+2.88114099j, 6.50770032+0.j        ,\\n'\n",
      " '        4.33516862-2.88114099j],\\n'\n",
      " '       [1.48396786+3.53317288j, 4.33516862+2.88114099j,\\n'\n",
      " '        6.50770032+0.j        ]])')\n"
     ]
    }
   ],
   "source": [
    "from pprint import pprint\n",
    "p = 2\n",
    "x = np.array([6, 1.92705 + 4.58522j, -3.42705 + 3.49541j], dtype=complex)\n",
    "#x = np.array([6, 1 + 4j, -2 + 3j], dtype=complex)\n",
    "R = np.sqrt(covar(x, p))\n",
    "pprint(f'{R.shape=}')\n",
    "pprint(f'{R=}')"
   ]
  },
  {
   "cell_type": "code",
   "execution_count": 6,
   "metadata": {},
   "outputs": [
    {
     "name": "stderr",
     "output_type": "stream",
     "text": [
      "WARNING:root:d=array([ 0.81716032,  2.67553759, 16.03040305])\n",
      "WARNING:root:v=array([[-4.32464881e-01+0.00000000e+00j, -7.07106781e-01+0.00000000e+00j,\n",
      "        -5.59440906e-01+0.00000000e+00j],\n",
      "       [ 6.58941580e-01+4.37886114e-01j, -1.43317534e-05+2.15652010e-05j,\n",
      "        -5.09363821e-01-3.38526577e-01j],\n",
      "       [-1.67514374e-01-3.98703910e-01j,  2.73852671e-01+6.51923856e-01j,\n",
      "        -2.16643073e-01-5.15790564e-01j]])\n"
     ]
    }
   ],
   "source": [
    "d, v = np.linalg.eigh(R)\n",
    "logging.warning(f'{d=}')\n",
    "logging.warning(f'{v=}')"
   ]
  },
  {
   "cell_type": "code",
   "execution_count": 7,
   "metadata": {},
   "outputs": [
    {
     "name": "stdout",
     "output_type": "stream",
     "text": [
      "(3, 1)\n",
      "[[ 6.     +0.j     ]\n",
      " [ 1.92705+4.58522j]\n",
      " [-3.42705+3.49541j]]\n"
     ]
    },
    {
     "data": {
      "text/plain": [
       "array([[ 36.         +0.j        ,  11.5623    -27.51132j   ,\n",
       "        -20.5623    -20.97246j   ],\n",
       "       [ 11.5623    +27.51132j   ,  24.73776415 +0.j        ,\n",
       "          9.42312714-22.44960804j],\n",
       "       [-20.5623    +20.97246j   ,   9.42312714+22.44960804j,\n",
       "         23.96256277 +0.j        ]])"
      ]
     },
     "execution_count": 7,
     "metadata": {},
     "output_type": "execute_result"
    }
   ],
   "source": [
    "_x = np.array(x, ndmin=2)\n",
    "_xt = _x.transpose()\n",
    "print(_xt.shape)\n",
    "print(_xt)\n",
    "np.dot(_xt, _x.conjugate())"
   ]
  },
  {
   "cell_type": "code",
   "execution_count": 8,
   "metadata": {},
   "outputs": [
    {
     "name": "stderr",
     "output_type": "stream",
     "text": [
      "WARNING:root:\n",
      "xcol=array([[ 6.     +0.j     ],\n",
      "       [ 1.92705+4.58522j],\n",
      "       [-3.42705+3.49541j]])\n",
      "WARNING:root:xpad=array([[ 0.     +0.j     ],\n",
      "       [ 0.     +0.j     ],\n",
      "       [ 6.     +0.j     ],\n",
      "       [ 1.92705+4.58522j],\n",
      "       [-3.42705+3.49541j],\n",
      "       [ 0.     +0.j     ],\n",
      "       [ 0.     +0.j     ]])\n",
      "\n"
     ]
    },
    {
     "name": "stdout",
     "output_type": "stream",
     "text": [
      "[[ 6.     +0.j       0.     +0.j       0.     +0.j     ]\n",
      " [ 1.92705+4.58522j  6.     +0.j       0.     +0.j     ]\n",
      " [-3.42705+3.49541j  1.92705+4.58522j  6.     +0.j     ]\n",
      " [ 0.     +0.j      -3.42705+3.49541j  1.92705+4.58522j]\n",
      " [ 0.     +0.j       0.     +0.j      -3.42705+3.49541j]]\n"
     ]
    }
   ],
   "source": [
    "_x = convm(x, 3)\n",
    "print(_x)"
   ]
  },
  {
   "cell_type": "code",
   "execution_count": 9,
   "metadata": {},
   "outputs": [
    {
     "name": "stdout",
     "output_type": "stream",
     "text": [
      "[[ 6.     -0.j       1.92705-4.58522j -3.42705-3.49541j  0.     -0.j\n",
      "   0.     -0.j     ]\n",
      " [ 0.     -0.j       6.     -0.j       1.92705-4.58522j -3.42705-3.49541j\n",
      "   0.     -0.j     ]\n",
      " [ 0.     -0.j       0.     -0.j       6.     -0.j       1.92705-4.58522j\n",
      "  -3.42705-3.49541j]]\n"
     ]
    },
    {
     "data": {
      "text/plain": [
       "array([[12.     +0.j     ,  1.92705-4.58522j, -3.42705-3.49541j],\n",
       "       [ 1.92705+4.58522j, 12.     +0.j     ,  1.92705-4.58522j],\n",
       "       [-3.42705+3.49541j,  1.92705+4.58522j, 12.     +0.j     ]])"
      ]
     },
     "execution_count": 9,
     "metadata": {},
     "output_type": "execute_result"
    }
   ],
   "source": [
    "print(_x.transpose().conjugate())\n",
    "myx = _x.transpose().conjugate()\n",
    "mx = _x[:3,:3] + myx[:,:3]\n",
    "mx"
   ]
  },
  {
   "cell_type": "code",
   "execution_count": 10,
   "metadata": {},
   "outputs": [
    {
     "data": {
      "text/plain": [
       "array([[ 6.     +0.j     ,  1.92705-4.58522j, -3.42705-3.49541j],\n",
       "       [ 1.92705+4.58522j,  6.     +0.j     ,  1.92705-4.58522j],\n",
       "       [-3.42705+3.49541j,  1.92705+4.58522j,  6.     +0.j     ]])"
      ]
     },
     "execution_count": 10,
     "metadata": {},
     "output_type": "execute_result"
    }
   ],
   "source": [
    "tt = np.array([6, 1.92705 + 4.58522j, -3.42705 + 3.49541j], dtype=complex)\n",
    "Rx = sp.linalg.toeplitz(tt)\n",
    "Rx"
   ]
  },
  {
   "cell_type": "code",
   "execution_count": 11,
   "metadata": {},
   "outputs": [
    {
     "name": "stdout",
     "output_type": "stream",
     "text": [
      "[ 1.00000161  1.10485869 15.8951397 ]\n",
      "[[ 6.     +0.j       1.92705-4.58522j -3.42705-3.49541j]\n",
      " [ 1.92705+4.58522j  6.     +0.j       1.92705-4.58522j]\n",
      " [-3.42705+3.49541j  1.92705+4.58522j  6.     +0.j     ]]\n",
      "[[ 0.40974303+0.j         -0.7070716 +0.j         -0.57633359+0.j        ]\n",
      " [-0.33145704-0.74455189j -0.0091694 +0.00392879j -0.22439919-0.53415747j]\n",
      " [-0.2741981 +0.30447455j -0.48772554+0.51193168j  0.40342281-0.41159499j]]\n"
     ]
    }
   ],
   "source": [
    "d, v = np.linalg.eigh(Rx)\n",
    "print(d)\n",
    "print(Rx)\n",
    "print(v)"
   ]
  },
  {
   "cell_type": "code",
   "execution_count": 12,
   "metadata": {},
   "outputs": [
    {
     "name": "stderr",
     "output_type": "stream",
     "text": [
      "WARNING:root:ddiag=array([[ 1.00000161,  0.        ,  0.        ],\n",
      "       [ 0.        ,  1.10485869,  0.        ],\n",
      "       [ 0.        ,  0.        , 15.8951397 ]])\n",
      "WARNING:root:v=array([[ 0.40974303+0.j        , -0.7070716 +0.j        ,\n",
      "        -0.57633359+0.j        ],\n",
      "       [-0.33145704-0.74455189j, -0.0091694 +0.00392879j,\n",
      "        -0.22439919-0.53415747j],\n",
      "       [-0.2741981 +0.30447455j, -0.48772554+0.51193168j,\n",
      "         0.40342281-0.41159499j]])\n",
      "WARNING:root:vmin=array([ 0.40974303+0.j        , -0.33145704-0.74455189j,\n",
      "       -0.2741981 +0.30447455j])\n",
      "WARNING:root:sigma=1.000001605433868\n"
     ]
    },
    {
     "name": "stdout",
     "output_type": "stream",
     "text": [
      "0\n"
     ]
    }
   ],
   "source": [
    "\n",
    "ddiag = np.diag(d)\n",
    "logging.warning(f'{ddiag=}')\n",
    "index = np.argmin(d)\n",
    "print(index)\n",
    "vmin = v[:, index]\n",
    "sigma = d[index]\n",
    "logging.warning(f'{v=}')\n",
    "logging.warning(f'{vmin=}')\n",
    "logging.warning(f'{sigma=}')"
   ]
  },
  {
   "cell_type": "code",
   "execution_count": 13,
   "metadata": {},
   "outputs": [
    {
     "name": "stdout",
     "output_type": "stream",
     "text": [
      "rts=array([0.49995334+0.86605234j, 0.30898547+0.95106676j])\n",
      "np.angle(rts)=array([1.04725142, 1.25667021])\n"
     ]
    }
   ],
   "source": [
    "rts = np.roots(vmin)\n",
    "print(f'{rts=}')\n",
    "print(f'{np.angle(rts)=}')"
   ]
  },
  {
   "cell_type": "code",
   "execution_count": 52,
   "metadata": {},
   "outputs": [
    {
     "name": "stdout",
     "output_type": "stream",
     "text": [
      "[-0.57633359+0.j         -0.22439919-0.53415747j  0.40342281-0.41159499j]\n"
     ]
    }
   ],
   "source": [
    "sigspace = v[:,index+2]\n",
    "vsig = v[:,index+1:].copy()\n",
    "#sigspace = sigspace / np.abs(sigspace)\n",
    "print(sigspace)"
   ]
  },
  {
   "cell_type": "code",
   "execution_count": 53,
   "metadata": {},
   "outputs": [
    {
     "name": "stdout",
     "output_type": "stream",
     "text": [
      "[1.         2.84980743 3.51370211]\n",
      "[ 1.        +0.j          0.49995334+0.86605234j -0.50009331+0.86597153j]\n",
      "(-1.709309626520612-0.21622913400032218j)\n",
      "1.7229319306654465\n",
      "2.9684944377065627\n"
     ]
    }
   ],
   "source": [
    "phases = np.angle(rts)\n",
    "print(np.exp(np.concatenate(([0], phases))))\n",
    "sigexp = np.concatenate(([1], np.exp([1j * phases[0]]),\n",
    "\t\t\t\t\t   np.exp([2j * phases[0]])), dtype=complex)\n",
    "sigexp = np.exp(np.concatenate(([0], [1j * phases[0]], [2j * phases[0]])))\n",
    "print(sigexp)\n",
    "res =  sigspace @ sigexp.conjugate()\n",
    "print(res)\n",
    "print(np.abs(res))\n",
    "print(np.abs(res)**2)"
   ]
  },
  {
   "cell_type": "code",
   "execution_count": 70,
   "metadata": {},
   "outputs": [],
   "source": [
    "siggie = np.exp(1j * np.arange(3).reshape(-1, 1) * phases)\n",
    "dtft = vsig.transpose() @ siggie.conjugate()\n",
    "dtft = np.abs(dtft)**2"
   ]
  },
  {
   "cell_type": "code",
   "execution_count": 71,
   "metadata": {},
   "outputs": [
    {
     "data": {
      "text/plain": [
       "array([ 0.10485709, 14.8951381 ])"
      ]
     },
     "execution_count": 71,
     "metadata": {},
     "output_type": "execute_result"
    }
   ],
   "source": [
    "dsig = d[index+1:] - d[index]\n",
    "dsig "
   ]
  },
  {
   "cell_type": "code",
   "execution_count": 72,
   "metadata": {},
   "outputs": [
    {
     "ename": "TypeError",
     "evalue": "solve() missing 2 required positional arguments: 'a' and 'b'",
     "output_type": "error",
     "traceback": [
      "\u001b[1;31m---------------------------------------------------------------------------\u001b[0m",
      "\u001b[1;31mTypeError\u001b[0m                                 Traceback (most recent call last)",
      "Cell \u001b[1;32mIn[72], line 1\u001b[0m\n\u001b[1;32m----> 1\u001b[0m \u001b[43mnp\u001b[49m\u001b[38;5;241;43m.\u001b[39;49m\u001b[43mlinalg\u001b[49m\u001b[38;5;241;43m.\u001b[39;49m\u001b[43msolve\u001b[49m\u001b[43m(\u001b[49m\u001b[43m)\u001b[49m\n",
      "\u001b[1;31mTypeError\u001b[0m: solve() missing 2 required positional arguments: 'a' and 'b'"
     ]
    }
   ],
   "source": [
    "np.linalg.solve(dtft)"
   ]
  }
 ],
 "metadata": {
  "kernelspec": {
   "display_name": ".env.py.312",
   "language": "python",
   "name": "python3"
  },
  "language_info": {
   "codemirror_mode": {
    "name": "ipython",
    "version": 3
   },
   "file_extension": ".py",
   "mimetype": "text/x-python",
   "name": "python",
   "nbconvert_exporter": "python",
   "pygments_lexer": "ipython3",
   "version": "3.12.1"
  }
 },
 "nbformat": 4,
 "nbformat_minor": 2
}
