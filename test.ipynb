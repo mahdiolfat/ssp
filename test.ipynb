{
 "cells": [
  {
   "cell_type": "code",
   "execution_count": 55,
   "metadata": {},
   "outputs": [],
   "source": [
    "from typing import NoReturn\n",
    "import logging\n",
    "\n",
    "import numpy as np\n",
    "from numpy.typing import ArrayLike\n",
    "import matplotlib.pyplot as plt\n",
    "\n",
    "import scipy as sp"
   ]
  },
  {
   "cell_type": "code",
   "execution_count": 56,
   "metadata": {},
   "outputs": [],
   "source": [
    "def convm(x: ArrayLike, p: int) -> np.ndarray:\n",
    "    \"\"\"Construct the convolution matrix of the signal x with p number of parameters.\n",
    "\n",
    "    (N + p - 1) by p non-symmetric Toeplitz matrix\n",
    "    \"\"\"\n",
    "    _x = np.array(x, dtype=complex).ravel()\n",
    "    if p < 1:\n",
    "        raise ValueError(f\"{p=} must be greater or equal to 1.\")\n",
    "\n",
    "    N = len(_x) + 2 * p - 2\n",
    "    # the signal centered over its support\n",
    "    # needed for the signal information-preserving frequency spectrum\n",
    "    xcol = (_x.copy()).reshape(-1, 1)\n",
    "    logging.warning(f'\\n{xcol=}')\n",
    "    xpad = np.concatenate((np.zeros((p - 1, 1)), xcol, np.zeros((p - 1, 1))))\n",
    "    logging.warning(f'{xpad=}\\n')\n",
    "    X = np.empty([len(_x) + p - 1, p], dtype=complex)\n",
    "    for i in range(p):\n",
    "        X[:, i] = xpad[p - i - 1:N - i, 0]\n",
    "    return X"
   ]
  },
  {
   "cell_type": "code",
   "execution_count": 57,
   "metadata": {},
   "outputs": [],
   "source": [
    "def covar(x: ArrayLike, p: int) -> np.ndarray:\n",
    "    \"\"\"Covariance Matrix.\n",
    "\n",
    "    p x p hermitian toeplitz matrix of sample covariances\n",
    "    \"\"\"\n",
    "    _x = np.array(x, dtype=complex)\n",
    "    m = len(_x)\n",
    "    # remove the mean\n",
    "    #_x = _x - np.mean(_x)\n",
    "    conv = convm(x, p + 1)\n",
    "    logging.warning(f'\\n{conv.shape=}')\n",
    "    logging.warning(f'\\n{conv=}')\n",
    "    R = conv.conjugate().transpose() @ conv.copy() / (m - 1)\n",
    "    return R"
   ]
  },
  {
   "cell_type": "code",
   "execution_count": 58,
   "metadata": {},
   "outputs": [],
   "source": [
    "def phd(x, p):\n",
    "    R = covar(x, p)\n",
    "    Rx = sp.linalg.toeplitz(x)\n",
    "    d, v = np.linalg.eigh(Rx)\n",
    "    index = np.argmin(d)\n",
    "    vmin = v[:, index].copy()\n",
    "    sigma = d[index]\n",
    "    logging.warning(f'{v=}')\n",
    "    logging.warning(f'{vmin=}')\n",
    "    logging.warning(f'{sigma=}')\n",
    "    rts = np.roots(vmin)\n",
    "    vsig = np.delete(v, index, 1)\n",
    "    phases = np.angle(rts)\n",
    "    siggie = np.exp(1j * np.arange(p + 1).reshape(-1, 1) * phases)\n",
    "    dtft = vsig.transpose() @ siggie.conjugate()\n",
    "    dtft = np.abs(dtft)**2\n",
    "    dsig = np.delete(d, index) - d[index]\n",
    "    np.linalg.solve(dtft, dsig)"
   ]
  },
  {
   "cell_type": "code",
   "execution_count": 59,
   "metadata": {},
   "outputs": [
    {
     "name": "stderr",
     "output_type": "stream",
     "text": [
      "WARNING:root:\n",
      "xcol=array([[ 6.     +0.j     ],\n",
      "       [ 1.92705+4.58522j],\n",
      "       [-3.42705+3.49541j]])\n",
      "WARNING:root:xpad=array([[ 0.     +0.j     ],\n",
      "       [ 0.     +0.j     ],\n",
      "       [ 6.     +0.j     ],\n",
      "       [ 1.92705+4.58522j],\n",
      "       [-3.42705+3.49541j],\n",
      "       [ 0.     +0.j     ],\n",
      "       [ 0.     +0.j     ]])\n",
      "\n"
     ]
    },
    {
     "name": "stdout",
     "output_type": "stream",
     "text": [
      "[[ 6.     +0.j       0.     +0.j       0.     +0.j     ]\n",
      " [ 1.92705+4.58522j  6.     +0.j       0.     +0.j     ]\n",
      " [-3.42705+3.49541j  1.92705+4.58522j  6.     +0.j     ]\n",
      " [ 0.     +0.j      -3.42705+3.49541j  1.92705+4.58522j]\n",
      " [ 0.     +0.j       0.     +0.j      -3.42705+3.49541j]]\n",
      "d=array([ 1.00000161,  1.10485869, 15.8951397 ])\n",
      "Rx=array([[ 6.     +0.j     ,  1.92705-4.58522j, -3.42705-3.49541j],\n",
      "       [ 1.92705+4.58522j,  6.     +0.j     ,  1.92705-4.58522j],\n",
      "       [-3.42705+3.49541j,  1.92705+4.58522j,  6.     +0.j     ]])\n",
      "v=array([[ 0.40974303+0.j        , -0.7070716 +0.j        ,\n",
      "        -0.57633359+0.j        ],\n",
      "       [-0.33145704-0.74455189j, -0.0091694 +0.00392879j,\n",
      "        -0.22439919-0.53415747j],\n",
      "       [-0.2741981 +0.30447455j, -0.48772554+0.51193168j,\n",
      "         0.40342281-0.41159499j]])\n",
      "v=array([[ 0.40974303+0.j        , -0.7070716 +0.j        ,\n",
      "        -0.57633359+0.j        ],\n",
      "       [-0.33145704-0.74455189j, -0.0091694 +0.00392879j,\n",
      "        -0.22439919-0.53415747j],\n",
      "       [-0.2741981 +0.30447455j, -0.48772554+0.51193168j,\n",
      "         0.40342281-0.41159499j]])\n",
      "vmin=array([ 0.40974303+0.j        , -0.33145704-0.74455189j,\n",
      "       -0.2741981 +0.30447455j])\n",
      "sigma=1.000001605433868\n",
      "rts=array([0.49995334+0.86605234j, 0.30898547+0.95106676j])\n",
      "phases=array([1.04725142, 1.25667021])\n"
     ]
    }
   ],
   "source": [
    "p = 2\n",
    "x = np.array([6, 1.92705 + 4.58522j, -3.42705 + 3.49541j], dtype=complex)\n",
    "_x = convm(x, 3)\n",
    "print(_x)\n",
    "Rx_conv = _x.transpose().conjugate() @ _x / 2\n",
    "Rx = sp.linalg.toeplitz(x)\n",
    "#Rx = Rx_conv\n",
    "# Rx = Rx / np.abs(Rx)\n",
    "d, v = np.linalg.eigh(Rx)\n",
    "print(f'{d=}')\n",
    "print(f'{Rx=}')\n",
    "print(f'{v=}')\n",
    "\n",
    "index = np.argmin(d)\n",
    "vmin = v[:, index].copy()\n",
    "sigma = d[index]\n",
    "rts = np.roots(vmin)\n",
    "vsig = np.delete(v, index, 1)\n",
    "phases = np.angle(rts)\n",
    "print(f'{v=}')\n",
    "print(f'{vmin=}')\n",
    "print(f'{sigma=}')\n",
    "print(f'{rts=}')\n",
    "print(f'{phases=}')"
   ]
  },
  {
   "cell_type": "code",
   "execution_count": 60,
   "metadata": {},
   "outputs": [
    {
     "data": {
      "text/plain": [
       "array([2.00098138, 2.99901701])"
      ]
     },
     "execution_count": 60,
     "metadata": {},
     "output_type": "execute_result"
    }
   ],
   "source": [
    "siggie = np.exp(1j * np.arange(p + 1).reshape(-1, 1) * phases)\n",
    "dtft = vsig.transpose() @ siggie.conjugate()\n",
    "d2 = np.fft.fft(vsig[:,-1], 1024)\n",
    "dtft = np.abs(dtft)**2\n",
    "dsig = np.delete(d, index) - d[index]\n",
    "np.linalg.solve(dtft, dsig)"
   ]
  },
  {
   "cell_type": "code",
   "execution_count": 63,
   "metadata": {},
   "outputs": [
    {
     "data": {
      "text/plain": [
       "[<matplotlib.lines.Line2D at 0x157ad4d8da0>]"
      ]
     },
     "execution_count": 63,
     "metadata": {},
     "output_type": "execute_result"
    },
    {
     "data": {
      "image/png": "[encoded data removed]",
      "text/plain": [
       "<Figure size 640x480 with 1 Axes>"
      ]
     },
     "metadata": {},
     "output_type": "display_data"
    }
   ],
   "source": [
    "plt.plot(10 * np.log(np.abs(d2))**2)"
   ]
  }
 ],
 "metadata": {
  "kernelspec": {
   "display_name": ".env.py.312",
   "language": "python",
   "name": "python3"
  },
  "language_info": {
   "codemirror_mode": {
    "name": "ipython",
    "version": 3
   },
   "file_extension": ".py",
   "mimetype": "text/x-python",
   "name": "python",
   "nbconvert_exporter": "python",
   "pygments_lexer": "ipython3",
   "version": "3.12.1"
  }
 },
 "nbformat": 4,
 "nbformat_minor": 2
}
