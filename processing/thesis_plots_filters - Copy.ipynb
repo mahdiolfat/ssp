{
 "cells": [
  {
   "cell_type": "code",
   "execution_count": 3,
   "metadata": {},
   "outputs": [],
   "source": [
    "from collections import defaultdict\n",
    "import matplotlib.pyplot as plt\n",
    "import matplotlib.colors as mcolors\n",
    "from matplotlib.path import Path\n",
    "from matplotlib.patches import PathPatch, FancyBboxPatch\n",
    "import numpy as np\n",
    "import scipy.signal as signal\n",
    "plt.rcParams[\"figure.figsize\"] = (6.4*2,4.8*1.5)\n",
    "plt.rcParams[\"font.size\"] = 16\n",
    "from dsp import util\n",
    "import json\n",
    "\n",
    "Fs = 150e6/8/256"
   ]
  },
  {
   "cell_type": "code",
   "execution_count": 4,
   "metadata": {},
   "outputs": [
    {
     "data": {
      "image/png": "[encoded data removed]",
      "text/plain": [
       "<Figure size 921.6x518.4 with 1 Axes>"
      ]
     },
     "metadata": {
      "needs_background": "light"
     },
     "output_type": "display_data"
    }
   ],
   "source": [
    "fig, axi = plt.subplots(1)\n",
    "\n",
    "ax = axi\n",
    "#axq = ax[1]\n",
    "\n",
    "w=np.linspace(0.2,0.4,100)\n",
    "\n",
    "#ax.plot(w, np.ones(w.size))\n",
    "#ax.vlines([0.2, 0.4], 0, 1)\n",
    "ax.plot((0, 0, 0.4, 0.4), (0, 1, 1, 0))\n",
    "ax.spines.right.set_visible(False)\n",
    "ax.spines.top.set_visible(False)\n",
    "ax.spines[\"left\"].set_position((\"data\", 0))\n",
    "ax.spines[\"bottom\"].set_position((\"data\", 0))\n",
    "ax.plot(1, 0, \">k\", transform  = ax.get_yaxis_transform(),  clip_on=False)\n",
    "ax.plot(0, 1, \"^k\", transform  = ax.get_xaxis_transform(),  clip_on=False)\n",
    "ax.set_yticks([0,1])\n",
    "ax.set_xticks([0,0.4, 0.5])\n",
    "ax.set_xticklabels(['0',r'$f_c$', r'$\\frac{1}{2}f_{s}$'])\n",
    "ax.set_ylim(0, 1.3)\n",
    "ax.set_ybound(0, 1.3)\n",
    "ax.set_xlim(0, 0.6)\n",
    "uptr=ax.transLimits.transform((0.2, 1))\n",
    "downtr=ax.transLimits.transform((0.4, 1))\n",
    "fdc=ax.transLimits.transform((0, 0))[0]\n",
    "fn=ax.transLimits.transform((0.5, 1))[0]\n",
    "fig.savefig(\"lowpass.svg\")\n",
    "\n",
    "#ax.axvline(0.5, 0, uptr[1], color='black')\n",
    "#ax.axvline(0.001\n",
    "#, 0, uptr[1], color='black')\n",
    "#ax.axhline(1, 0, fn, color='black')\n",
    "#ax.axhline(0, 0, fn, color='black')\n",
    "#ax.axvspan(0.18, 0.22, ymax=uptr[1], alpha=0.3)\n",
    "#ax.axvspan(0.38, 0.42, ymax=downtr[1], alpha=0.3)\n",
    "#ax.axvspan(0.38, 0.42, ymax=downtr[1], alpha=0.3)\n",
    "#ax.axvspan(0.16, 0.2, ymax=downtr[1], alpha=0.3, lw=20)\n",
    "#ax.axvspan(0.4, 0.44, ymax=downtr[1], alpha=0.3, lw=20)\n",
    "#pb = ax.axhspan(0.92, 1, xmin=uptr[0], xmax=downtr[0], alpha=0.3, lw=20, capstyle='round', joinstyle='round')\n",
    "#pb = ax.axhspan(0, 0.1, xmin=fdc, xmax=fn, alpha=0.3, lw=20, capstyle='round', joinstyle='round')\n",
    "#pb2 = ax.axvspan(0.38, 2.42, ymax=downtr[1], alpha=0.3, lw=20, capstyle='round', joinstyle='round')\n",
    "#ax.annotate('Upper-Transition\\nBand-Width', (0.44, 0.3))\n",
    "#ax.annotate('Lower-Transition\\nBand-Width', (0.2, 0.3))\n",
    "#ax.annotate('Stop-Band Rejection', (0.1, 0.1))\n",
    "#ax.annotate('Pass-band Attenuation', (0.4, 1))"
   ]
  },
  {
   "cell_type": "code",
   "execution_count": null,
   "metadata": {},
   "outputs": [],
   "source": []
  }
 ],
 "metadata": {
  "kernelspec": {
   "display_name": "Python 3",
   "language": "python",
   "name": "python3"
  },
  "language_info": {
   "codemirror_mode": {
    "name": "ipython",
    "version": 3
   },
   "file_extension": ".py",
   "mimetype": "text/x-python",
   "name": "python",
   "nbconvert_exporter": "python",
   "pygments_lexer": "ipython3",
   "version": "3.9.13"
  },
  "orig_nbformat": 4,
  "vscode": {
   "interpreter": {
    "hash": "9887f6c7be016c00437bb31ecb0e171117dcb397ce4e86ba8c87f524ffd9fd3a"
   }
  }
 },
 "nbformat": 4,
 "nbformat_minor": 2
}
